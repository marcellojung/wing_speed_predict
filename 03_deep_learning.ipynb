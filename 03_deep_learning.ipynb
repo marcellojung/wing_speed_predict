{
 "cells": [
  {
   "cell_type": "code",
   "execution_count": null,
   "id": "interesting-claim",
   "metadata": {},
   "outputs": [],
   "source": [
    "## 라이브러리 설치\n",
    "!pip install matplotlib\n",
    "!pip install seaborn\n",
    "!pip install -q xgboost\n",
    "!pip install graphviz\n",
    "!pip install -q ipywidgets\n",
    "!pip install -q geopandas\n",
    "!pip install geopy\n",
    "!pip install haversine\n",
    "!pip install swifter\n",
    "\n",
    "##### 추가된 모듈 설치 #########\n",
    "!pip install -q pandarallel # 데이터프레임 병렬처리"
   ]
  },
  {
   "cell_type": "code",
   "execution_count": null,
   "id": "sticky-reputation",
   "metadata": {},
   "outputs": [],
   "source": [
    "## 라이브러리 불러오기 \n",
    "import pandas as pd\n",
    "import numpy as np\n",
    "import math\n",
    "import matplotlib.pyplot as plt\n",
    "import seaborn as sns\n",
    "from matplotlib import rc\n",
    "from datetime import datetime\n",
    "import os\n",
    "import warnings\n",
    "import ipywidgets as widgets\n",
    "from sklearn.preprocessing import LabelEncoder, OneHotEncoder\n",
    "from ipywidgets import interact, interact_manual\n",
    "from geopy import distance\n",
    "import geopandas as gpd\n",
    "import multiprocessing\n",
    "from tqdm import trange,tqdm_notebook,tqdm\n",
    "from pandarallel import pandarallel\n",
    "\n",
    "warnings.filterwarnings(\"ignore\",category=np.VisibleDeprecationWarning)\n",
    "warnings.filterwarnings('ignore')\n",
    "\n",
    "# 차트 한글 폰트 설정\n",
    "# plt.rcParams['font.family'] = 'NanumGothicCoding'\n",
    "rc('font', family='AppleGothic')\n",
    "plt.rcParams['axes.unicode_minus'] = False\n",
    "\n",
    "# 차트 음수 깨짐 방지\n",
    "plt.rcParams['axes.unicode_minus'] = False\n",
    "\n",
    "# 차트 기본 사이즈 설정\n",
    "plt.rcParams[\"figure.figsize\"] = (12,9)\n",
    "\n",
    "# 모든 컬럼 표시\n",
    "pd.set_option('display.max_columns', 1000)\n",
    "pd.set_option('display.max_row', 100)\n",
    "pd.set_option('display.max_seq_items', None)"
   ]
  },
  {
   "cell_type": "code",
   "execution_count": null,
   "id": "demonstrated-special",
   "metadata": {},
   "outputs": [],
   "source": [
    "##########################################################################################################\n",
    "## 딥러닝 모델 테스트\n",
    "########################################################################################################## \n",
    "# 라이브러리 불러오기\n",
    "import tensorflow as tf\n",
    "from tensorflow.keras.layers import Input, Dense, Dropout, BatchNormalization\n",
    "from tensorflow.keras.models import Sequential\n",
    "from tensorflow.keras.callbacks import EarlyStopping, ModelCheckpoint\n",
    "from tensorflow.keras.utils import to_categorical\n",
    "from tensorflow.keras import models\n",
    "from tensorflow.keras import layers\n",
    "tf.keras.backend.clear_session()\n",
    "x_test.shape,x_train.shape,y_test.shape,y_train.shape"
   ]
  },
  {
   "cell_type": "code",
   "execution_count": null,
   "id": "modified-sword",
   "metadata": {},
   "outputs": [],
   "source": [
    "def build_model(in,out,hidden): \n",
    "    model = models.Sequential()\n",
    "    model.add(layers.Dense(64, activation='relu',\n",
    "                           input_shape=(x_train.shape[1],)))\n",
    "    Dropout(0.2),\n",
    "    model.add(layers.Dense(64, activation='relu'))\n",
    "    Dropout(0.2),\n",
    "    model.add(layers.Dense(32, activation='relu'))\n",
    "    model.add(layers.Dense(1))\n",
    "    model.compile(optimizer='rmsprop', loss='mse', metrics=['mae'])\n",
    "    return model"
   ]
  },
  {
   "cell_type": "code",
   "execution_count": null,
   "id": "sensitive-advocacy",
   "metadata": {},
   "outputs": [],
   "source": [
    "# 평가 및 시각화 : \n",
    "def smooth_curve(points, factor=0.9):\n",
    "    smoothed_points = []\n",
    "    for point in points:\n",
    "        if smoothed_points:\n",
    "            previous = smoothed_points[-1]\n",
    "            smoothed_points.append(previous * factor + point * (1 - factor))\n",
    "        else:\n",
    "            smoothed_points.append(point)\n",
    "    return smoothed_points\n",
    "\n",
    "smooth_mae_history = smooth_curve(average_mae_history[10:])\n",
    "\n",
    "plt.plot(range(1, len(smooth_mae_history) + 1), smooth_mae_history)\n",
    "plt.xlabel('Epochs')\n",
    "plt.ylabel('Validation MAE')\n",
    "plt.show()"
   ]
  },
  {
   "cell_type": "code",
   "execution_count": null,
   "id": "verbal-cream",
   "metadata": {},
   "outputs": [],
   "source": []
  }
 ],
 "metadata": {
  "kernelspec": {
   "display_name": "Python 3",
   "language": "python",
   "name": "python3"
  },
  "language_info": {
   "codemirror_mode": {
    "name": "ipython",
    "version": 3
   },
   "file_extension": ".py",
   "mimetype": "text/x-python",
   "name": "python",
   "nbconvert_exporter": "python",
   "pygments_lexer": "ipython3",
   "version": "3.6.9"
  }
 },
 "nbformat": 4,
 "nbformat_minor": 5
}
