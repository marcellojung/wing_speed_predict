{
 "cells": [
  {
   "cell_type": "code",
   "execution_count": null,
   "id": "talented-crown",
   "metadata": {},
   "outputs": [],
   "source": [
    "## 라이브러리 설치\n",
    "!pip install matplotlib\n",
    "!pip install seaborn\n",
    "!pip install -q xgboost\n",
    "!pip install graphviz\n",
    "!pip install -q ipywidgets\n",
    "!pip install -q geopandas\n",
    "!pip install geopy\n",
    "!pip install haversine\n",
    "!pip install swifter\n",
    "\n",
    "##### 추가된 모듈 설치 #########\n",
    "!pip install -q pandarallel # 데이터프레임 병렬처리"
   ]
  },
  {
   "cell_type": "code",
   "execution_count": 1,
   "id": "exposed-illness",
   "metadata": {},
   "outputs": [
    {
     "name": "stderr",
     "output_type": "stream",
     "text": [
      "/usr/local/lib/python3.6/dist-packages/joblib/_multiprocessing_helpers.py:45: UserWarning: [Errno 28] No space left on device.  joblib will operate in serial mode\n",
      "  warnings.warn('%s.  joblib will operate in serial mode' % (e,))\n"
     ]
    }
   ],
   "source": [
    "## 라이브러리 불러오기 \n",
    "import pandas as pd\n",
    "import numpy as np\n",
    "import math\n",
    "import matplotlib.pyplot as plt\n",
    "import seaborn as sns\n",
    "from matplotlib import rc\n",
    "from datetime import datetime\n",
    "import os\n",
    "import warnings\n",
    "import ipywidgets as widgets\n",
    "from sklearn.preprocessing import LabelEncoder, OneHotEncoder\n",
    "from ipywidgets import interact, interact_manual\n",
    "from geopy import distance\n",
    "import geopandas as gpd\n",
    "import multiprocessing\n",
    "from tqdm import trange,tqdm_notebook,tqdm\n",
    "from pandarallel import pandarallel\n",
    "\n",
    "warnings.filterwarnings(\"ignore\",category=np.VisibleDeprecationWarning)\n",
    "warnings.filterwarnings('ignore')\n",
    "\n",
    "# 차트 한글 폰트 설정\n",
    "# plt.rcParams['font.family'] = 'NanumGothicCoding'\n",
    "rc('font', family='AppleGothic')\n",
    "plt.rcParams['axes.unicode_minus'] = False\n",
    "\n",
    "# 차트 음수 깨짐 방지\n",
    "plt.rcParams['axes.unicode_minus'] = False\n",
    "\n",
    "# 차트 기본 사이즈 설정\n",
    "plt.rcParams[\"figure.figsize\"] = (12,9)\n",
    "\n",
    "# 모든 컬럼 표시\n",
    "pd.set_option('display.max_columns', 1000)\n",
    "pd.set_option('display.max_row', 100)\n",
    "pd.set_option('display.max_seq_items', None)"
   ]
  },
  {
   "cell_type": "markdown",
   "id": "numerical-carter",
   "metadata": {},
   "source": [
    "# 3. Wing데이터 예측 \n",
    " * 3-1) Wing 데이터 전처리\n",
    " * 3-2) 위치 좌표 추출(UTM-K) 및 RPOT ID 매핑 \n",
    " * 3-3) 기지국 위경도 정보 및 파라미터 가저오기"
   ]
  },
  {
   "cell_type": "code",
   "execution_count": null,
   "id": "annual-paper",
   "metadata": {},
   "outputs": [],
   "source": [
    "##wing 데이터 전처리 \n",
    "# wdf = pd.read_excel('/tf/skj/Wing_speed/WING/gpot_1.xlsx',engine='openpyxl',sheet_name=\"GPOT_속도예측_각종지표_(성남,수원)\")\n",
    "wdf2 = pd.read_excel('/tf/skj/Wing_speed/220527_정리/2205_gpot_suwon.xlsx',engine='openpyxl',sheet_name=\"빈 리포트\")\n",
    "wdf3 = pd.read_excel('/tf/skj/Wing_speed/220527_정리/2205_gpot_ygin.xlsx',engine='openpyxl',sheet_name=\"GPOT_속도예측_각종지표_(용인,화성)\")\n",
    "wdf4 = pd.read_excel('/tf/skj/Wing_speed/220527_정리/2205_gpot_incheon.xlsx',engine='openpyxl',sheet_name=\"GPOT_속도예측_각종지표_(인천)\")\n",
    "wdf = pd.concat([wdf2,wdf3,wdf4])\n",
    "## 컬럼명 변경\n",
    "new_cols = {\n",
    "        '*기간_일@공통' : 'day', \n",
    "        '*POT_GPOT ID@공통:GPOT' : 'gpot_id',\n",
    "        '행정구역_행정동 시군구@공통' : 'sigungu', \n",
    "        '행정구역_행정동 읍면동@공통' : 'dong', \n",
    "        'Network_NR CELL ID@C구분:공통' : 'w_cellid',\n",
    "        'Network_NR RU Type@C구분:공통' : 'w_ru_type', \n",
    "        'Network_NR PCI@C구분:공통' : 'w_pci',\n",
    "        '*Network_NR RU ID@C구분:공통' : 'w_ruid',\n",
    "        'POT_중점 LATITUDE@공통:GPOT' : 'w_lat', \n",
    "        'POT_중점 LONGITUDE@공통:GPOT' : 'w_lon',\n",
    "        'POT_중점 UTMK X@공통:GPOT' : 'w_utmkx', \n",
    "        'POT_중점 UTMK Y@공통:GPOT' : 'w_utmky', \n",
    "        'NR_측정 수@NR:C구분:GPOT' : 'w_count',\n",
    "        'NR_RSRP 평균@NR:C구분:GPOT' : 'w_rsrp', \n",
    "        'NR_RSRQ 평균@NR:C구분:GPOT' : 'w_rsrq',\n",
    "        'NR_SINR 평균@NR:C구분:GPOT' : 'w_sinr', \n",
    "        'NR_CQI 평균@NR:C구분:GPOT' : 'w_cqi',\n",
    "        'NR_DL_RI 평균@NR:C구분:GPOT' : 'w_ri'\n",
    "}\n",
    "wwdf = wdf.rename(columns=new_cols)\n",
    "wwdf.dropna(subset=['w_rsrp','w_rsrq','w_sinr','w_cqi'],inplace=True)\n",
    "# wwdf = wwdf[wdf2.w_count>=3]\n",
    "wwdf.reset_index(drop=True,inplace=True)\n",
    "wwdf.isnull().sum()\n",
    "wwdf2 = wwdf[wwdf['w_count']>=2]\n",
    "#위경도 거리 차이 계산 \n",
    "def dist_calc(row):\n",
    "    start = (row['w_lat'], row['w_lon'])\n",
    "    stop = (row['LAT'],row['LON'])\n",
    "    return np.around(distance.great_circle(start,stop).m,1)"
   ]
  },
  {
   "cell_type": "code",
   "execution_count": null,
   "id": "bizarre-baghdad",
   "metadata": {},
   "outputs": [],
   "source": [
    "#Siteinfo\n",
    "sdf = pd.read_csv('/tf/skj/Wing_speed/220527_정리/2205_siteinfo.csv', encoding='cp949')\n",
    "#USM_statistics\n",
    "tdf = pd.read_csv('/tf/skj/Wing_speed/220527_정리/2205_site_stat.csv')\n",
    "#dong별주소매핑\n",
    "ddf = pd.read_csv('/tf/skj/Wing_speed/220527_정리/dong_lat_lon_행안부_ver2.csv')"
   ]
  },
  {
   "cell_type": "code",
   "execution_count": null,
   "id": "innovative-fabric",
   "metadata": {},
   "outputs": [],
   "source": [
    "#wing 데이터도 마찬가지로 기지국 파라미터, 통계 데이터 필요하다 \n",
    "sdf2 = sdf[sdf.date==220510]\n",
    "sum_df = pd.merge(wwdf2,sdf2,how='inner',left_on='w_ruid',right_on='RRH_ID')\n",
    "# sum_df.head(2)\n",
    "sum_df['dist'] = sum_df.apply(lambda row : dist_calc(row),axis=1)\n",
    "sum_df2 = sum_df[['day','sigungu','dong','gpot_id','w_lat','w_lon','w_ruid','w_pci','w_rsrp','w_rsrq','w_sinr','w_cqi','w_count','gnb_ID','CELL_ID','dist','RU_TYPE','RANK_INDEX']]\n",
    "sum_df2['date']= sum_df2.day.astype(str).str[2:].astype(int)\n",
    "merge_wing = pd.merge(sum_df2,tdf, how='inner',left_on=['date','gnb_ID','CELL_ID'],right_on=['date','gnb_id','cellid'])\n",
    "print(wwdf2.shape,sum_df2.shape,merge_wing.shape)\n",
    "merge_wing2 = merge_wing.drop_duplicates(keep='first')\n",
    "merge_wing2.dropna(inplace=True)\n",
    "merge_wing2.reset_index(inplace=True)\n",
    "print(merge_wing2.shape)"
   ]
  },
  {
   "cell_type": "code",
   "execution_count": null,
   "id": "orange-robin",
   "metadata": {},
   "outputs": [],
   "source": []
  },
  {
   "cell_type": "code",
   "execution_count": null,
   "id": "banner-concrete",
   "metadata": {},
   "outputs": [],
   "source": [
    "# 회귀 모델에 적용\n",
    "# scaler = Normalizer()\n",
    "scaler = RobustScaler()\n",
    "wdt = merge_wing2.copy()\n",
    "cols = ['w_rsrp','w_rsrq','w_sinr','w_cqi','dist','DL_PRB', 'UL_PRB','dl_bler','ul_bler' ,'dl_mcs_layer']\n",
    "wx = scaler.fit_transform(wdt[cols])\n",
    "wx = pd.DataFrame(wx, columns=cols[:10])\n",
    "knn_pred = knn_model.predict(wx)\n",
    "ext_pred = ext_model.predict(wx)\n",
    "xgb_pred = xgb_model.predict(wx)\n",
    "# wx.shape,wy_pred.shape\n",
    "wing_pred_knn = pd.Series(knn_pred)\n",
    "wing_pred_xgb = pd.Series(xgb_pred)\n",
    "wing_pred_ext = pd.Series(ext_pred)\n",
    "pred_wing = pd.concat([wdt, wing_pred_knn,wing_pred_ext,wing_pred_xgb], axis=1)\n",
    "pred_wing = pred_wing.rename(columns={0:'pred_mac_speed_knn',1:'pred_mac_speed_ext',2:'pred_mac_speed_xgb'})"
   ]
  },
  {
   "cell_type": "code",
   "execution_count": null,
   "id": "upset-employment",
   "metadata": {},
   "outputs": [],
   "source": [
    "pred_wing2 = pred_wing[['day', 'sigungu', 'dong', 'gpot_id', 'w_lat', 'w_lon',\n",
    "       'w_ruid', 'w_pci', 'w_rsrp', 'w_rsrq', 'w_sinr', 'w_cqi', 'w_count','gnb_ID', 'CELL_ID', 'dist', 'RU_TYPE', 'RANK_INDEX','UL_PRB', 'DL_PRB','ul_bler',\n",
    "       'dl_bler','dl_mcs_layer',\n",
    "       'pred_mac_speed_knn', 'pred_mac_speed_xgb']].sort_values(['day','gpot_id','w_pci'])"
   ]
  },
  {
   "cell_type": "code",
   "execution_count": null,
   "id": "amber-nature",
   "metadata": {},
   "outputs": [],
   "source": [
    "# filter = (pred_wing.w_rsrq>=-23) & (pred_wing.w_sinr>=-5) & (pred_wing.w_sinr<=25) \n",
    "# pred_wing2 = pred_wing.loc[filter, :]\n",
    "agg_format= {'w_rsrp':'mean','w_rsrq':'mean','w_sinr':'mean','w_cqi':'mean','w_count':'mean','dist':'mean','DL_PRB':'mean','UL_PRB':'mean','dl_bler':'mean','ul_bler':'mean','pred_mac_speed_knn':'mean','pred_mac_speed_ext':'mean','pred_mac_speed_xgb':'mean'}\n",
    "pred_wing3 = pred_wing2.groupby(['sigungu','dong','gpot_id','w_lat','w_lon','w_pci','w_ruid']).agg(agg_format).reset_index()"
   ]
  },
  {
   "cell_type": "code",
   "execution_count": null,
   "id": "parental-probability",
   "metadata": {},
   "outputs": [],
   "source": [
    "# pred_wing2.to_csv('./220522/220520_wing_pred_merge_daily_ver2.csv')\n",
    "# pred_wing3 = pd.read_csv('./220522/220520_wing_pred_merge_sum_ver2.csv')\n",
    "pred_wing3.to_csv('./04_wing_pred_sum.csv')\n",
    "pred_wing2.to_csv('./04_wing_pred_daily.csv')"
   ]
  },
  {
   "cell_type": "code",
   "execution_count": null,
   "id": "directed-operations",
   "metadata": {},
   "outputs": [],
   "source": []
  },
  {
   "cell_type": "code",
   "execution_count": null,
   "id": "relative-pastor",
   "metadata": {},
   "outputs": [],
   "source": []
  }
 ],
 "metadata": {
  "kernelspec": {
   "display_name": "Python 3",
   "language": "python",
   "name": "python3"
  },
  "language_info": {
   "codemirror_mode": {
    "name": "ipython",
    "version": 3
   },
   "file_extension": ".py",
   "mimetype": "text/x-python",
   "name": "python",
   "nbconvert_exporter": "python",
   "pygments_lexer": "ipython3",
   "version": "3.6.9"
  }
 },
 "nbformat": 4,
 "nbformat_minor": 5
}
